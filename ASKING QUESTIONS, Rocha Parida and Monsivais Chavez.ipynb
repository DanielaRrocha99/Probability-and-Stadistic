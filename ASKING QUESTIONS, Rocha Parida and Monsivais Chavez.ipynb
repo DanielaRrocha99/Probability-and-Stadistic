{
 "cells": [
  {
   "cell_type": "markdown",
   "metadata": {},
   "source": [
    "# ASKING QUESTIONS"
   ]
  },
  {
   "cell_type": "code",
   "execution_count": 1,
   "metadata": {},
   "outputs": [
    {
     "name": "stdout",
     "output_type": "stream",
     "text": [
      "What is your name?  Daniela\n",
      "Hi, Daniela\n",
      "How old are you?20\n",
      "Really? You are 20?\n",
      "So, where do you live? Mexico\n",
      "I didn't know you live in, Mexico\n"
     ]
    }
   ],
   "source": [
    "print (\"What is your name? \", end = ' ')\n",
    "name = input()\n",
    "print (f\"Hi, {name}\")\n",
    "age = int(input(\"How old are you?\"))\n",
    "print(f\"Really? You are {age}?\")\n",
    "print(\"So, where do you live?\", end = ' ')\n",
    "place = input()\n",
    "print(f\"I didn't know you live in, {place}\")"
   ]
  },
  {
   "cell_type": "code",
   "execution_count": 2,
   "metadata": {},
   "outputs": [],
   "source": [
    "# write a program that ask for the age of three students and reurn the sample mean."
   ]
  },
  {
   "cell_type": "code",
   "execution_count": 3,
   "metadata": {},
   "outputs": [
    {
     "name": "stdout",
     "output_type": "stream",
     "text": [
      "Good morning, so tell me what's your name? Daniela\n",
      "Hi, Daniela, now that I know your name, I'm going to start with the questions\n",
      "Okay, I'm ready\n",
      "How old are you?25\n",
      "Really? You are 25? It's incredible because you seem yonger.\n",
      "Well, thank you\n",
      "And you? what's your name?  Melanie\n",
      "I really like your name, Melanie\n",
      "So how old are you?15\n",
      "You said 15, righ?\n",
      "Yeah, is there a problem or something?\n",
      "Not at all, I was just corroborating, and las but not list, What's your name? Paola\n",
      "Nice, now tell me your age and that would be all for today30\n",
      "Okay,30,well that's all, thanks for your time guys\n",
      "I wonder that is the sample mean of our ages, cana you help us with that?\n",
      "Of course, Daniela, the sample mean of your ages is (23.333333333333332)\n"
     ]
    }
   ],
   "source": [
    "print (\"Good morning, so tell me what's your name?\", end = ' ')\n",
    "name = input()\n",
    "print (f\"Hi, {name}, now that I know your name, I'm going to start with the questions\")\n",
    "print(\"Okay, I'm ready\")\n",
    "age = int(input(\"How old are you?\"))\n",
    "print(f\"Really? You are {age}? It's incredible because you seem yonger.\")\n",
    "print(\"Well, thank you\")\n",
    "print (\"And you? what's your name? \", end = ' ')\n",
    "name2 = input()\n",
    "print (f\"I really like your name, {name2}\")\n",
    "age2 = int(input(\"So how old are you?\"))\n",
    "print(f\"You said {age2}, righ?\")\n",
    "print(\"Yeah, is there a problem or something?\")\n",
    "print(\"Not at all, I was just corroborating, and las but not list, What's your name?\", end = ' ')\n",
    "name3 = input()\n",
    "print(\"Nice, now tell me your age and that would be all for today\", end = ' ')\n",
    "age3 = input()\n",
    "print(f\"Okay, {age3} well that's all, thanks for your time guys\")\n",
    "print(\"I wonder that is the sample mean of our ages, cana you help us with that?\")\n",
    "print(f\"Of course, {name}, the sample mean of your ages is ({(age+age2+age3)/3})\")"
   ]
  },
  {
   "cell_type": "code",
   "execution_count": null,
   "metadata": {},
   "outputs": [],
   "source": []
  }
 ],
 "metadata": {
  "kernelspec": {
   "display_name": "Python 3",
   "language": "python",
   "name": "python3"
  },
  "language_info": {
   "codemirror_mode": {
    "name": "ipython",
    "version": 3
   },
   "file_extension": ".py",
   "mimetype": "text/x-python",
   "name": "python",
   "nbconvert_exporter": "python",
   "pygments_lexer": "ipython3",
   "version": "3.7.4"
  }
 },
 "nbformat": 4,
 "nbformat_minor": 2
}
